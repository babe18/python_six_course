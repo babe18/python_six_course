{
 "metadata": {
  "language_info": {
   "codemirror_mode": {
    "name": "ipython",
    "version": 3
   },
   "file_extension": ".py",
   "mimetype": "text/x-python",
   "name": "python",
   "nbconvert_exporter": "python",
   "pygments_lexer": "ipython3",
   "version": "3.8.5-final"
  },
  "orig_nbformat": 2,
  "kernelspec": {
   "name": "python3",
   "display_name": "Python 3",
   "language": "python"
  }
 },
 "nbformat": 4,
 "nbformat_minor": 2,
 "cells": [
  {
   "cell_type": "code",
   "execution_count": 1,
   "metadata": {},
   "outputs": [
    {
     "output_type": "stream",
     "name": "stdout",
     "text": [
      "100,20,60,75,80,95,55,85,90,90\n['100', '20', '60', '75', '80', '95', '55', '85', '90', '90']\n"
     ]
    }
   ],
   "source": [
    "gradeString = \"100,20,60,75,80,95,55,85,90,90\"\n",
    "gradeList = gradeString.split(\",\")\n",
    "print(gradeString)\n",
    "print(gradeList)"
   ]
  },
  {
   "cell_type": "code",
   "execution_count": 2,
   "metadata": {},
   "outputs": [
    {
     "output_type": "stream",
     "name": "stdout",
     "text": [
      "<class 'str'>\n<class 'list'>\n"
     ]
    }
   ],
   "source": [
    "print(type(gradeString))\n",
    "print(type(gradeList))"
   ]
  },
  {
   "cell_type": "code",
   "execution_count": 3,
   "metadata": {},
   "outputs": [
    {
     "output_type": "stream",
     "name": "stdout",
     "text": [
      "['100', '20', '60', '75', '80']\n10\n"
     ]
    }
   ],
   "source": [
    "print(gradeList[:5])\n",
    "print(len(gradeList))"
   ]
  },
  {
   "cell_type": "code",
   "execution_count": 4,
   "metadata": {},
   "outputs": [
    {
     "output_type": "stream",
     "name": "stdout",
     "text": [
      "['100', '20', '60', '100', '75', '80', '95', '55', '85', '90', '90', '60']\n"
     ]
    }
   ],
   "source": [
    "gradeList.append('60') #append(value):將新增的放在list的最後\n",
    "gradeList.insert(3,'100') #insert(position, value):將新增的值放在指定位置\n",
    "print(gradeList)"
   ]
  },
  {
   "cell_type": "code",
   "execution_count": 5,
   "metadata": {},
   "outputs": [
    {
     "output_type": "stream",
     "name": "stdout",
     "text": [
      "['20', '60', '100', '75', '80', '95', '55', '85', '90', '90', '60']\n"
     ]
    }
   ],
   "source": [
    "gradeList.remove('100')\n",
    "print(gradeList)"
   ]
  },
  {
   "cell_type": "code",
   "execution_count": 6,
   "metadata": {},
   "outputs": [
    {
     "output_type": "stream",
     "name": "stdout",
     "text": [
      "[20, 60, 100, 75, 80, 95, 55, 85, 90, 90, 60]\n[100, 75, 80, 20, 85, 55, 90, 60, 95]\n['100', '75', '80', '20', '85', '55', '90', '60', '95']\n"
     ]
    }
   ],
   "source": [
    "#Removing duplicates in the lists\n",
    "gradeList=list(map(int,gradeList))# map(function, iterable)\n",
    "print(gradeList)\n",
    "gradeList=list(set(gradeList))\n",
    "print(gradeList)\n",
    "gradeList=list(map(str,gradeList))# map(function, iterable)\n",
    "print(gradeList)"
   ]
  }
 ]
}