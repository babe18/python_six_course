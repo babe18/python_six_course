{
 "cells": [
  {
   "cell_type": "code",
   "execution_count": null,
   "metadata": {},
   "outputs": [],
   "source": [
    "import os \n",
    "a=os.path.isfile('result.txt') #check if file 'result.txt' exist\n",
    "print(a)\n",
    "writefile1=open('result.txt','a') #打開一個文件用於追加。如果該文件已存在，文件將會加在文件的结尾。也就是說，新的内容將會被寫入到已有内容之後。如果該文件不存在，創建新文件進行寫入\n",
    "print(os.path.abspath('result.txt'))\n",
    "#write something in 'result.txt'"
   ]
  },
  {
   "cell_type": "code",
   "execution_count": null,
   "metadata": {},
   "outputs": [],
   "source": [
    "writefile1=open('result.txt','w') #打開一個文件只用於寫入。如果該文件已存在責打开文件，並從頭開始編輯，即原有内容會被删除。如果該文件不存在，創建新文件。\n",
    "#write something in 'result.txt'"
   ]
  },
  {
   "cell_type": "code",
   "execution_count": null,
   "metadata": {},
   "outputs": [],
   "source": [
    "writefile1=open('result.txt','r') #以唯讀方式打開文件。文件的指針將會放在文件的開頭，這是默認模式。\n",
    "writefile1.read()"
   ]
  },
  {
   "cell_type": "code",
   "execution_count": null,
   "metadata": {},
   "outputs": [],
   "source": [
    "writefile1.close()\n",
    "os.remove(\"result.txt\") #刪除該檔案"
   ]
  },
  {
   "cell_type": "code",
   "execution_count": null,
   "metadata": {},
   "outputs": [],
   "source": [
    "#python回家練習題4\n",
    "a='202'\n",
    "b='101'\n",
    "c=str(int(a+b)//int(b))*int(int(a)//int(b))+a\n",
    "#   str(202101//101) * int(202//101) + str(a)\n",
    "#   str(2001) * int(2) + str(202)\n",
    "#   20012001202\n",
    "print(c)"
   ]
  }
 ],
 "metadata": {
  "kernelspec": {
   "display_name": "Python 3",
   "language": "python",
   "name": "python3"
  },
  "language_info": {
   "codemirror_mode": {
    "name": "ipython",
    "version": 3
   },
   "file_extension": ".py",
   "mimetype": "text/x-python",
   "name": "python",
   "nbconvert_exporter": "python",
   "pygments_lexer": "ipython3",
   "version": "3.8.5-final"
  }
 },
 "nbformat": 4,
 "nbformat_minor": 4
}